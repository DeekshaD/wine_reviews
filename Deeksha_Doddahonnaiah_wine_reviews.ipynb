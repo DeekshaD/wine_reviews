{
 "cells": [
  {
   "cell_type": "code",
   "execution_count": 121,
   "metadata": {},
   "outputs": [],
   "source": [
    "import pandas as pd\n",
    "import numpy as np\n",
    "import seaborn as sns\n",
    "import matplotlib.pyplot as plt\n",
    "import math\n",
    "import gensim\n",
    "import nltk\n",
    "import random\n",
    "from nltk.stem import WordNetLemmatizer, SnowballStemmer\n",
    "from nltk.stem.porter import *\n",
    "from nltk.stem import *\n",
    "from gensim.utils import simple_preprocess\n",
    "from gensim.parsing.preprocessing import STOPWORDS\n",
    "from gensim import corpora, models\n",
    "from sklearn import model_selection\n",
    "from sklearn.preprocessing import StandardScaler\n",
    "from sklearn.linear_model import LinearRegression, RidgeCV, Ridge, Lasso\n",
    "from sklearn.model_selection import cross_val_score\n",
    "from sklearn.metrics import mean_squared_error, r2_score\n",
    "from sklearn.ensemble import RandomForestRegressor, GradientBoostingRegressor"
   ]
  },
  {
   "cell_type": "code",
   "execution_count": 49,
   "metadata": {},
   "outputs": [],
   "source": [
    "df_wine = pd.read_csv('./wine-reviews/winemag-data-130k-v2.csv')\n",
    "pd.set_option('max_rows', 5)"
   ]
  },
  {
   "cell_type": "code",
   "execution_count": 50,
   "metadata": {},
   "outputs": [
    {
     "data": {
      "text/html": [
       "<div>\n",
       "<style scoped>\n",
       "    .dataframe tbody tr th:only-of-type {\n",
       "        vertical-align: middle;\n",
       "    }\n",
       "\n",
       "    .dataframe tbody tr th {\n",
       "        vertical-align: top;\n",
       "    }\n",
       "\n",
       "    .dataframe thead th {\n",
       "        text-align: right;\n",
       "    }\n",
       "</style>\n",
       "<table border=\"1\" class=\"dataframe\">\n",
       "  <thead>\n",
       "    <tr style=\"text-align: right;\">\n",
       "      <th></th>\n",
       "      <th>country</th>\n",
       "      <th>description</th>\n",
       "      <th>designation</th>\n",
       "      <th>points</th>\n",
       "      <th>price</th>\n",
       "      <th>province</th>\n",
       "      <th>region_1</th>\n",
       "      <th>region_2</th>\n",
       "      <th>taster_name</th>\n",
       "      <th>taster_twitter_handle</th>\n",
       "      <th>title</th>\n",
       "      <th>variety</th>\n",
       "      <th>winery</th>\n",
       "    </tr>\n",
       "  </thead>\n",
       "  <tbody>\n",
       "    <tr>\n",
       "      <th>0</th>\n",
       "      <td>Italy</td>\n",
       "      <td>Aromas include tropical fruit, broom, brimston...</td>\n",
       "      <td>Vulkà Bianco</td>\n",
       "      <td>87</td>\n",
       "      <td>NaN</td>\n",
       "      <td>Sicily &amp; Sardinia</td>\n",
       "      <td>Etna</td>\n",
       "      <td>NaN</td>\n",
       "      <td>Kerin O’Keefe</td>\n",
       "      <td>@kerinokeefe</td>\n",
       "      <td>Nicosia 2013 Vulkà Bianco  (Etna)</td>\n",
       "      <td>White Blend</td>\n",
       "      <td>Nicosia</td>\n",
       "    </tr>\n",
       "    <tr>\n",
       "      <th>1</th>\n",
       "      <td>Portugal</td>\n",
       "      <td>This is ripe and fruity, a wine that is smooth...</td>\n",
       "      <td>Avidagos</td>\n",
       "      <td>87</td>\n",
       "      <td>15.0</td>\n",
       "      <td>Douro</td>\n",
       "      <td>NaN</td>\n",
       "      <td>NaN</td>\n",
       "      <td>Roger Voss</td>\n",
       "      <td>@vossroger</td>\n",
       "      <td>Quinta dos Avidagos 2011 Avidagos Red (Douro)</td>\n",
       "      <td>Portuguese Red</td>\n",
       "      <td>Quinta dos Avidagos</td>\n",
       "    </tr>\n",
       "    <tr>\n",
       "      <th>2</th>\n",
       "      <td>US</td>\n",
       "      <td>Tart and snappy, the flavors of lime flesh and...</td>\n",
       "      <td>NaN</td>\n",
       "      <td>87</td>\n",
       "      <td>14.0</td>\n",
       "      <td>Oregon</td>\n",
       "      <td>Willamette Valley</td>\n",
       "      <td>Willamette Valley</td>\n",
       "      <td>Paul Gregutt</td>\n",
       "      <td>@paulgwine</td>\n",
       "      <td>Rainstorm 2013 Pinot Gris (Willamette Valley)</td>\n",
       "      <td>Pinot Gris</td>\n",
       "      <td>Rainstorm</td>\n",
       "    </tr>\n",
       "    <tr>\n",
       "      <th>3</th>\n",
       "      <td>US</td>\n",
       "      <td>Pineapple rind, lemon pith and orange blossom ...</td>\n",
       "      <td>Reserve Late Harvest</td>\n",
       "      <td>87</td>\n",
       "      <td>13.0</td>\n",
       "      <td>Michigan</td>\n",
       "      <td>Lake Michigan Shore</td>\n",
       "      <td>NaN</td>\n",
       "      <td>Alexander Peartree</td>\n",
       "      <td>NaN</td>\n",
       "      <td>St. Julian 2013 Reserve Late Harvest Riesling ...</td>\n",
       "      <td>Riesling</td>\n",
       "      <td>St. Julian</td>\n",
       "    </tr>\n",
       "    <tr>\n",
       "      <th>4</th>\n",
       "      <td>US</td>\n",
       "      <td>Much like the regular bottling from 2012, this...</td>\n",
       "      <td>Vintner's Reserve Wild Child Block</td>\n",
       "      <td>87</td>\n",
       "      <td>65.0</td>\n",
       "      <td>Oregon</td>\n",
       "      <td>Willamette Valley</td>\n",
       "      <td>Willamette Valley</td>\n",
       "      <td>Paul Gregutt</td>\n",
       "      <td>@paulgwine</td>\n",
       "      <td>Sweet Cheeks 2012 Vintner's Reserve Wild Child...</td>\n",
       "      <td>Pinot Noir</td>\n",
       "      <td>Sweet Cheeks</td>\n",
       "    </tr>\n",
       "  </tbody>\n",
       "</table>\n",
       "</div>"
      ],
      "text/plain": [
       "    country                                        description  \\\n",
       "0     Italy  Aromas include tropical fruit, broom, brimston...   \n",
       "1  Portugal  This is ripe and fruity, a wine that is smooth...   \n",
       "2        US  Tart and snappy, the flavors of lime flesh and...   \n",
       "3        US  Pineapple rind, lemon pith and orange blossom ...   \n",
       "4        US  Much like the regular bottling from 2012, this...   \n",
       "\n",
       "                          designation  points  price           province  \\\n",
       "0                        Vulkà Bianco      87    NaN  Sicily & Sardinia   \n",
       "1                            Avidagos      87   15.0              Douro   \n",
       "2                                 NaN      87   14.0             Oregon   \n",
       "3                Reserve Late Harvest      87   13.0           Michigan   \n",
       "4  Vintner's Reserve Wild Child Block      87   65.0             Oregon   \n",
       "\n",
       "              region_1           region_2         taster_name  \\\n",
       "0                 Etna                NaN       Kerin O’Keefe   \n",
       "1                  NaN                NaN          Roger Voss   \n",
       "2    Willamette Valley  Willamette Valley        Paul Gregutt   \n",
       "3  Lake Michigan Shore                NaN  Alexander Peartree   \n",
       "4    Willamette Valley  Willamette Valley        Paul Gregutt   \n",
       "\n",
       "  taster_twitter_handle                                              title  \\\n",
       "0          @kerinokeefe                  Nicosia 2013 Vulkà Bianco  (Etna)   \n",
       "1            @vossroger      Quinta dos Avidagos 2011 Avidagos Red (Douro)   \n",
       "2           @paulgwine       Rainstorm 2013 Pinot Gris (Willamette Valley)   \n",
       "3                   NaN  St. Julian 2013 Reserve Late Harvest Riesling ...   \n",
       "4           @paulgwine   Sweet Cheeks 2012 Vintner's Reserve Wild Child...   \n",
       "\n",
       "          variety               winery  \n",
       "0     White Blend              Nicosia  \n",
       "1  Portuguese Red  Quinta dos Avidagos  \n",
       "2      Pinot Gris            Rainstorm  \n",
       "3        Riesling           St. Julian  \n",
       "4      Pinot Noir         Sweet Cheeks  "
      ]
     },
     "execution_count": 50,
     "metadata": {},
     "output_type": "execute_result"
    }
   ],
   "source": [
    "df_wine = df_wine.iloc[:,1:]\n",
    "df_wine.head()"
   ]
  },
  {
   "cell_type": "code",
   "execution_count": 51,
   "metadata": {},
   "outputs": [
    {
     "name": "stdout",
     "output_type": "stream",
     "text": [
      "<class 'pandas.core.frame.DataFrame'>\n",
      "RangeIndex: 129971 entries, 0 to 129970\n",
      "Data columns (total 13 columns):\n",
      "country                  129908 non-null object\n",
      "description              129971 non-null object\n",
      "designation              92506 non-null object\n",
      "points                   129971 non-null int64\n",
      "price                    120975 non-null float64\n",
      "province                 129908 non-null object\n",
      "region_1                 108724 non-null object\n",
      "region_2                 50511 non-null object\n",
      "taster_name              103727 non-null object\n",
      "taster_twitter_handle    98758 non-null object\n",
      "title                    129971 non-null object\n",
      "variety                  129970 non-null object\n",
      "winery                   129971 non-null object\n",
      "dtypes: float64(1), int64(1), object(11)\n",
      "memory usage: 12.9+ MB\n"
     ]
    }
   ],
   "source": [
    "# region_2 has a lot of null vales. So do Designation, taster_name, region_1\n",
    "df_wine.info()"
   ]
  },
  {
   "cell_type": "code",
   "execution_count": 52,
   "metadata": {},
   "outputs": [],
   "source": [
    "#description and reviews are the important columns; lets remove duplicates and NA in desccription\n",
    "df_wine.drop_duplicates('description',inplace = True)\n",
    "df_wine.dropna(subset=['description', 'price', 'points'], inplace = True)\n",
    "df_wine.reset_index(inplace=True)"
   ]
  },
  {
   "cell_type": "markdown",
   "metadata": {},
   "source": [
    "### Exploratory analysis\n",
    "#### Visualization 1: Distribution of points\n",
    "\n",
    "_Task_ :  **Discover, Present**; Targets: `Points`\n",
    "\n",
    "_Visual encodings_ : **Single key** (count of `points` in a bin), axis orientation - **rectlinear**\n",
    "\n",
    "_Marks_ : **Line**\n",
    "\n",
    "_Position_ : **Vertical**\n",
    "\n",
    "_Size_ : **Length** (gives counts for bins)\n",
    "\n",
    "_Attributes_ : Counts - Quantative; Bins - categorical"
   ]
  },
  {
   "cell_type": "code",
   "execution_count": 8,
   "metadata": {},
   "outputs": [
    {
     "data": {
      "text/plain": [
       "<matplotlib.axes._subplots.AxesSubplot at 0x7f802e4277f0>"
      ]
     },
     "execution_count": 8,
     "metadata": {},
     "output_type": "execute_result"
    },
    {
     "data": {
      "image/png": "[encoded data removed]",
      "text/plain": [
       "<Figure size 432x288 with 1 Axes>"
      ]
     },
     "metadata": {
      "needs_background": "light"
     },
     "output_type": "display_data"
    }
   ],
   "source": [
    "sns.distplot(df_wine.points, bins = 20, kde = False)"
   ]
  },
  {
   "cell_type": "markdown",
   "metadata": {},
   "source": [
    "#### Visualization 2: Distribution of variety and points\n",
    "\n",
    "This Visulaization is to observe the distribution of points across 10 most common varieties of wine. We observe that a few wines like syrah and pinot noir are rated better, and wines like Red Blend, Merlot have a lot of outliers. \n",
    "\n",
    "_Task_ : **Discover distributions**, extremes and skew\n",
    "\n",
    "_Attributes_ : Data: Variety(categorical), points(quantitative); Derived: 5 quantitative attributes representing distribution of points for a category\n",
    "\n",
    "_Visual Encodings_ : **1D allignment of glyphs** along horizontal axis\n",
    "\n",
    "_Marks_ : **Line**\n",
    "\n",
    "_Position_ : Qualitative is mapped to **horizontal** axis, Categorical to **vertical** axis\n",
    "\n",
    "_Size_ : **Length** of the box plot, with 5 quantiles seperated by a vertical lines"
   ]
  },
  {
   "cell_type": "code",
   "execution_count": 515,
   "metadata": {},
   "outputs": [
    {
     "data": {
      "image/png": "[encoded data removed]",
      "text/plain": [
       "<Figure size 720x432 with 1 Axes>"
      ]
     },
     "metadata": {
      "needs_background": "light"
     },
     "output_type": "display_data"
    }
   ],
   "source": [
    "df_filtered = df_wine[df_wine.variety.isin(df_wine.variety.value_counts().head(10).index)]\n",
    "plt.figure(figsize=(10,6))\n",
    "s = sns.boxplot(\n",
    "    y = 'variety',\n",
    "    x = 'points',\n",
    "    data = df_filtered)"
   ]
  },
  {
   "cell_type": "markdown",
   "metadata": {},
   "source": [
    "#### Visualization 3: Correlation  - Wine ratings vs price\n",
    "\n",
    "This visualization helps buyers understand the relationship between prices and ratings. I'm using a regression line to highlight the trend of the two variables. We observe a positive correlation between prices and points, i.e, more expensive wines are indeed better rated.  We also observe that there are a few outliers on the further left which shows some expensive wines are not well rated compared to others.\n",
    "\n",
    "_Task_ : **Discover trends** of prices vs wine ratings\n",
    "\n",
    "_Attributes_ : Data - log(price), points;\n",
    "\n",
    "_Visual encodings_ : Regression line along **rectlinear** axis\n",
    "\n",
    "_Marks_ : **Points** and **Line**\n",
    "\n",
    "_Position_ : Both\n",
    "\n",
    "_Color_ : Regression line is represented in blue, points in green"
   ]
  },
  {
   "cell_type": "code",
   "execution_count": 160,
   "metadata": {},
   "outputs": [
    {
     "data": {
      "text/plain": [
       "<matplotlib.axes._subplots.AxesSubplot at 0x7f375e398ef0>"
      ]
     },
     "execution_count": 160,
     "metadata": {},
     "output_type": "execute_result"
    },
    {
     "data": {
      "image/png": "[encoded data removed]",
      "text/plain": [
       "<Figure size 864x288 with 1 Axes>"
      ]
     },
     "metadata": {
      "needs_background": "light"
     },
     "output_type": "display_data"
    }
   ],
   "source": [
    "plt.figure(figsize = (12, 4))\n",
    "sns.regplot(\n",
    "    x = list(map(lambda x: math.log10(x), df_wine.price)),\n",
    "    y = df_wine.points,\n",
    "    scatter_kws = {'color': 'g', \"s\" : 10, \"alpha\" : 0.5})"
   ]
  },
  {
   "cell_type": "markdown",
   "metadata": {},
   "source": [
    "#### Data Preprocessing"
   ]
  },
  {
   "cell_type": "code",
   "execution_count": 53,
   "metadata": {},
   "outputs": [],
   "source": [
    "categorical = ['country', 'designation', 'province', 'region_1', 'region_2', \n",
    "               'title', 'variety', 'winery', 'taster_name', 'taster_twitter_handle']"
   ]
  },
  {
   "cell_type": "code",
   "execution_count": 54,
   "metadata": {},
   "outputs": [
    {
     "name": "stdout",
     "output_type": "stream",
     "text": [
      "country ; NA counts:  55 ; Unique counts:  43\n",
      "designation ; NA counts:  32050 ; Unique counts:  35773\n",
      "province ; NA counts:  55 ; Unique counts:  423\n",
      "region_1 ; NA counts:  18011 ; Unique counts:  1205\n",
      "region_2 ; NA counts:  65008 ; Unique counts:  18\n",
      "title ; NA counts:  0 ; Unique counts:  110612\n",
      "variety ; NA counts:  1 ; Unique counts:  698\n",
      "winery ; NA counts:  0 ; Unique counts:  15854\n",
      "taster_name ; NA counts:  23268 ; Unique counts:  20\n",
      "taster_twitter_handle ; NA counts:  27751 ; Unique counts:  16\n"
     ]
    }
   ],
   "source": [
    "for col in categorical:\n",
    "    print(col, \"; NA counts: \", df_wine.loc[:,col].isna().sum(),\n",
    "          \"; Unique counts: \", len(df_wine.loc[:,col].unique()))"
   ]
  },
  {
   "cell_type": "markdown",
   "metadata": {},
   "source": [
    "We will consider country, province and variety for categorical attributes owing to their resonable unique and NA counts, and drop the rest"
   ]
  },
  {
   "cell_type": "code",
   "execution_count": 55,
   "metadata": {},
   "outputs": [],
   "source": [
    "one_hot_cols = ['country', 'province', 'variety']\n",
    "dummies = pd.get_dummies(df_wine[one_hot_cols])\n",
    "df_wine = df_wine.drop(columns = categorical)\n",
    "data = pd.concat([df_wine, dummies], axis = 1)\n",
    "data.reset_index(inplace = True)"
   ]
  },
  {
   "cell_type": "code",
   "execution_count": 56,
   "metadata": {},
   "outputs": [
    {
     "data": {
      "text/plain": [
       "(111567, 1166)"
      ]
     },
     "execution_count": 56,
     "metadata": {},
     "output_type": "execute_result"
    }
   ],
   "source": [
    "data.shape"
   ]
  },
  {
   "cell_type": "markdown",
   "metadata": {},
   "source": [
    "### LDA\n",
    "#### Preprocessing : Lemmatize, remove stop words"
   ]
  },
  {
   "cell_type": "code",
   "execution_count": 57,
   "metadata": {
    "scrolled": true
   },
   "outputs": [
    {
     "name": "stdout",
     "output_type": "stream",
     "text": [
      "[nltk_data] Downloading package wordnet to /home/d/nltk_data...\n",
      "[nltk_data]   Package wordnet is already up-to-date!\n"
     ]
    }
   ],
   "source": [
    "nltk.download('wordnet')\n",
    "#stem, lemmatize data\n",
    "def preprocess(text):\n",
    "    result = []\n",
    "    for token in gensim.utils.simple_preprocess(text):\n",
    "        if token not in gensim.parsing.preprocessing.STOPWORDS and len(token)>3:\n",
    "            _tokens = WordNetLemmatizer().lemmatize(token, pos = 'v')\n",
    "            result.append(_tokens)\n",
    "    return result"
   ]
  },
  {
   "cell_type": "code",
   "execution_count": 58,
   "metadata": {},
   "outputs": [],
   "source": [
    "def do_call(doc_raw):\n",
    "    doc_preprocessed = []\n",
    "    for i,line in enumerate(doc_raw):\n",
    "        doc_preprocessed.append(preprocess(line))\n",
    "        \n",
    "    return doc_preprocessed"
   ]
  },
  {
   "cell_type": "code",
   "execution_count": 59,
   "metadata": {},
   "outputs": [
    {
     "name": "stdout",
     "output_type": "stream",
     "text": [
      "CPU times: user 22.5 s, sys: 173 ms, total: 22.6 s\n",
      "Wall time: 22.6 s\n"
     ]
    }
   ],
   "source": [
    "%%time\n",
    "doc_preprocessed = do_call(data.description)"
   ]
  },
  {
   "cell_type": "code",
   "execution_count": 60,
   "metadata": {},
   "outputs": [
    {
     "data": {
      "text/plain": [
       "['tart',\n",
       " 'snappy',\n",
       " 'flavor',\n",
       " 'lime',\n",
       " 'flesh',\n",
       " 'rind',\n",
       " 'dominate',\n",
       " 'green',\n",
       " 'pineapple',\n",
       " 'poke',\n",
       " 'crisp',\n",
       " 'acidity',\n",
       " 'underscore',\n",
       " 'flavor',\n",
       " 'wine',\n",
       " 'stainless',\n",
       " 'steel',\n",
       " 'ferment']"
      ]
     },
     "execution_count": 60,
     "metadata": {},
     "output_type": "execute_result"
    }
   ],
   "source": [
    "doc_preprocessed[1]"
   ]
  },
  {
   "cell_type": "markdown",
   "metadata": {},
   "source": [
    "#### TF-IDF"
   ]
  },
  {
   "cell_type": "code",
   "execution_count": 61,
   "metadata": {},
   "outputs": [],
   "source": [
    "#get dictionary for reviews \n",
    "def get_dict(doc):\n",
    "    return gensim.corpora.Dictionary(doc)\n",
    "\n",
    "#convert dictionary to bag-of-words model\n",
    "def generate_bow(doc_list):\n",
    "    doc_dict = get_dict(doc_list)\n",
    "    doc_bow = [doc_dict.doc2bow(line) for line in doc_list]\n",
    "    return doc_bow, doc_dict"
   ]
  },
  {
   "cell_type": "code",
   "execution_count": 62,
   "metadata": {},
   "outputs": [
    {
     "name": "stdout",
     "output_type": "stream",
     "text": [
      "CPU times: user 8.66 s, sys: 113 ms, total: 8.77 s\n",
      "Wall time: 8.79 s\n"
     ]
    }
   ],
   "source": [
    "%%time\n",
    "doc_bow, doc_dict = generate_bow(doc_preprocessed)"
   ]
  },
  {
   "cell_type": "code",
   "execution_count": 63,
   "metadata": {},
   "outputs": [
    {
     "name": "stdout",
     "output_type": "stream",
     "text": [
      "CPU times: user 950 ms, sys: 35.9 ms, total: 986 ms\n",
      "Wall time: 985 ms\n"
     ]
    }
   ],
   "source": [
    "%%time\n",
    "tfidf = models.TfidfModel(doc_bow)\n",
    "doc_tfidf = tfidf[doc_bow]"
   ]
  },
  {
   "cell_type": "code",
   "execution_count": 64,
   "metadata": {},
   "outputs": [],
   "source": [
    "def run_lda(n_topics, doc_tfidf):\n",
    "    doc_lda = gensim.models.LdaMulticore(doc_tfidf, num_topics = n_topics, id2word = doc_dict,\n",
    "                                         passes = 3, minimum_probability=0.0)\n",
    "    for i, t in doc_lda.print_topics(-1):\n",
    "        print('Topic: {} Word: {} '.format(i,t))\n",
    "        \n",
    "    doc_topic_dist_tup = doc_lda.get_document_topics(doc_tfidf, minimum_probability=0.0)\n",
    "    doc_topic_prob = np.zeros(shape= (len(doc_topic_dist_tup), n_topics), dtype = \"float64\")\n",
    "    for i, top_dist in enumerate(doc_topic_dist_tup):\n",
    "        doc_topic_prob[i,:] = np.asarray(top_dist)[:,1]\n",
    "        \n",
    "    return doc_lda, doc_topic_prob"
   ]
  },
  {
   "cell_type": "code",
   "execution_count": 65,
   "metadata": {},
   "outputs": [
    {
     "name": "stdout",
     "output_type": "stream",
     "text": [
      "Topic: 0 Word: 0.008*\"cherries\" + 0.007*\"blackberry\" + 0.007*\"cherry\" + 0.006*\"pinot\" + 0.006*\"sweet\" + 0.006*\"good\" + 0.006*\"flavor\" + 0.006*\"cola\" + 0.006*\"pair\" + 0.006*\"rich\" \n",
      "Topic: 1 Word: 0.003*\"win\" + 0.003*\"trail\" + 0.003*\"years\" + 0.002*\"blackberry\" + 0.002*\"vineyard\" + 0.002*\"wine\" + 0.002*\"track\" + 0.002*\"fruit\" + 0.002*\"winery\" + 0.002*\"decanter\" \n",
      "Topic: 2 Word: 0.011*\"apple\" + 0.010*\"peach\" + 0.010*\"white\" + 0.009*\"citrus\" + 0.008*\"pear\" + 0.008*\"lemon\" + 0.007*\"lime\" + 0.007*\"aromas\" + 0.006*\"chardonnay\" + 0.006*\"pineapple\" \n",
      "Topic: 3 Word: 0.016*\"wine\" + 0.014*\"structure\" + 0.013*\"wood\" + 0.013*\"age\" + 0.013*\"drink\" + 0.012*\"fruit\" + 0.012*\"ripe\" + 0.011*\"tannins\" + 0.011*\"acidity\" + 0.011*\"rich\" \n",
      "Topic: 4 Word: 0.013*\"black\" + 0.012*\"cherry\" + 0.011*\"tannins\" + 0.011*\"palate\" + 0.010*\"alongside\" + 0.010*\"aromas\" + 0.009*\"dry\" + 0.009*\"offer\" + 0.008*\"pepper\" + 0.008*\"berry\" \n",
      "Topic: 5 Word: 0.009*\"feel\" + 0.008*\"finish\" + 0.008*\"taste\" + 0.007*\"flavor\" + 0.007*\"green\" + 0.007*\"aromas\" + 0.006*\"herbal\" + 0.006*\"berry\" + 0.005*\"smell\" + 0.005*\"like\" \n",
      "Topic: 6 Word: 0.014*\"crisp\" + 0.013*\"fruity\" + 0.012*\"acidity\" + 0.012*\"wine\" + 0.012*\"drink\" + 0.011*\"ready\" + 0.011*\"light\" + 0.010*\"attractive\" + 0.010*\"soft\" + 0.009*\"texture\" \n",
      "Topic: 7 Word: 0.009*\"cabernet\" + 0.008*\"plum\" + 0.008*\"berry\" + 0.007*\"aromas\" + 0.007*\"finish\" + 0.007*\"black\" + 0.007*\"blackberry\" + 0.007*\"blend\" + 0.006*\"spice\" + 0.006*\"dark\" \n",
      "Topic: 8 Word: 0.007*\"vineyard\" + 0.005*\"cherry\" + 0.005*\"black\" + 0.005*\"fruit\" + 0.005*\"wine\" + 0.004*\"bottle\" + 0.004*\"cabernet\" + 0.004*\"show\" + 0.004*\"tannins\" + 0.004*\"barrel\" \n",
      "Topic: 9 Word: 0.008*\"lemon\" + 0.007*\"palate\" + 0.007*\"riesling\" + 0.006*\"nose\" + 0.006*\"finish\" + 0.006*\"fresh\" + 0.006*\"note\" + 0.006*\"apple\" + 0.006*\"freshness\" + 0.005*\"pear\" \n",
      "CPU times: user 2min 51s, sys: 1.62 s, total: 2min 53s\n",
      "Wall time: 2min 53s\n"
     ]
    }
   ],
   "source": [
    "%%time\n",
    "n_topics = 10\n",
    "_, doc_topic_prob = run_lda(n_topics, doc_tfidf)"
   ]
  },
  {
   "cell_type": "code",
   "execution_count": 66,
   "metadata": {},
   "outputs": [],
   "source": [
    "topics = ['topic_'+str(i) for i in range(1, 11)]\n",
    "doc_lda = pd.DataFrame(doc_topic_prob, columns=topics)"
   ]
  },
  {
   "cell_type": "code",
   "execution_count": 71,
   "metadata": {},
   "outputs": [],
   "source": [
    "doc_lda.reset_index(inplace=True)\n",
    "data = data.iloc[:,2:]\n",
    "data = data.drop(columns=['description'])"
   ]
  },
  {
   "cell_type": "code",
   "execution_count": 113,
   "metadata": {},
   "outputs": [],
   "source": [
    "parsed_data = pd.concat([doc_lda, data], axis = 1)\n",
    "parsed_data = parsed_data.iloc[:,1:]"
   ]
  },
  {
   "cell_type": "code",
   "execution_count": 370,
   "metadata": {},
   "outputs": [],
   "source": [
    "del doc_bow, doc_dict, doc_lda_filt, doc_preprocessed"
   ]
  },
  {
   "cell_type": "markdown",
   "metadata": {},
   "source": [
    "#### Train-test split"
   ]
  },
  {
   "cell_type": "code",
   "execution_count": 115,
   "metadata": {},
   "outputs": [],
   "source": [
    "#test and train split\n",
    "train = parsed_data.sample(frac=0.8, random_state = 10)\n",
    "test = parsed_data.drop(train.index)\n",
    "train.price = StandardScaler().fit_transform(train.price.values.reshape(-1,1))"
   ]
  },
  {
   "cell_type": "code",
   "execution_count": 116,
   "metadata": {},
   "outputs": [],
   "source": [
    "#model fitting"
   ]
  },
  {
   "cell_type": "code",
   "execution_count": 117,
   "metadata": {},
   "outputs": [],
   "source": [
    "#grid search CV\n",
    "from sklearn.model_selection import cross_val_score, GridSearchCV\n",
    "from sklearn.metrics import make_scorer, accuracy_score"
   ]
  },
  {
   "cell_type": "code",
   "execution_count": 118,
   "metadata": {},
   "outputs": [],
   "source": [
    "X = train.iloc[:, train.columns!='points']\n",
    "y = train.points\n",
    "cv = 10\n",
    "scoring = {'mse': make_scorer(mean_squared_error),\n",
    "          'r2' : make_scorer(r2_score)}"
   ]
  },
  {
   "cell_type": "markdown",
   "metadata": {},
   "source": [
    "#### Grid Search CV\n",
    "\n",
    "Using gridsearchcv for hyperparameter tuning using 10 fold cross-validation. Gridsearch returns the estimators of best performing model and the results for all 10 folds of CV. Since gridsearch returns the best model, I chose this library."
   ]
  },
  {
   "cell_type": "code",
   "execution_count": 125,
   "metadata": {},
   "outputs": [],
   "source": [
    "def call_gridsearch(clf, param_grid, scoring, filename):\n",
    "    gs = GridSearchCV(clf, cv = cv, param_grid=param_grid, scoring=scoring, \n",
    "                      verbose = 5, refit = 'r2', n_jobs = -1)\n",
    "    gs.fit(X, y)\n",
    "    cv_results = pd.DataFrame(gs.cv_results_)\n",
    "    cv_results.to_pickle(filename)\n",
    "    return cv_results, gs"
   ]
  },
  {
   "cell_type": "markdown",
   "metadata": {},
   "source": [
    "#### Ridge Regression"
   ]
  },
  {
   "cell_type": "code",
   "execution_count": 130,
   "metadata": {
    "scrolled": true
   },
   "outputs": [
    {
     "name": "stdout",
     "output_type": "stream",
     "text": [
      "Fitting 10 folds for each of 5 candidates, totalling 50 fits\n",
      "[CV] alpha=0.1 .......................................................\n",
      "[CV] alpha=0.1 .......................................................\n",
      "[CV] alpha=0.1 .......................................................\n",
      "[CV] alpha=0.1 .......................................................\n",
      "[CV]  alpha=0.1, mse=5.900769875997822, r2=0.3905695576110847, total=  45.3s\n",
      "[CV] alpha=0.1 .......................................................\n",
      "[CV]  alpha=0.1, mse=5.9251320869846555, r2=0.3740513383070646, total=  47.8s\n",
      "[CV] alpha=0.1 .......................................................\n",
      "[CV]  alpha=0.1, mse=5.991067996883995, r2=0.36619496572648413, total=  48.9s\n",
      "[CV] alpha=0.1 .......................................................\n",
      "[CV]  alpha=0.1, mse=5.870849986901589, r2=0.3909524535858526, total=  49.9s\n",
      "[CV] alpha=0.1 .......................................................\n",
      "[CV]  alpha=0.1, mse=7.151399517259481, r2=0.25690381849886, total=  51.8s\n",
      "[CV] alpha=0.1 .......................................................\n",
      "[CV]  alpha=0.1, mse=5.817525122429216, r2=0.40044232174009453, total=  51.8s\n",
      "[CV] alpha=0.1 .......................................................\n",
      "[CV]  alpha=0.1, mse=5.928283160756929, r2=0.3854469220363026, total=  54.0s\n",
      "[CV] alpha=0.01 ......................................................\n",
      "[CV]  alpha=0.1, mse=6.082384425173217, r2=0.3853887239592061, total=  54.3s\n",
      "[CV] alpha=0.01 ......................................................\n",
      "[CV]  alpha=0.1, mse=5.8832872814083945, r2=0.3806596711140441, total=  50.1s\n",
      "[CV] alpha=0.01 ......................................................\n",
      "[CV]  alpha=0.1, mse=5.798933373015257, r2=0.40158688095501494, total=  49.9s\n"
     ]
    },
    {
     "name": "stderr",
     "output_type": "stream",
     "text": [
      "[Parallel(n_jobs=-1)]: Done  10 tasks      | elapsed:  2.7min\n"
     ]
    },
    {
     "name": "stdout",
     "output_type": "stream",
     "text": [
      "[CV] alpha=0.01 ......................................................\n",
      "[CV]  alpha=0.01, mse=5.903489727058857, r2=0.3902886518868841, total=  51.9s\n",
      "[CV] alpha=0.01 ......................................................\n",
      "[CV]  alpha=0.01, mse=5.927252356449047, r2=0.37382734670414663, total=  52.4s\n",
      "[CV] alpha=0.01 ......................................................\n",
      "[CV]  alpha=0.01, mse=5.993329080545628, r2=0.36595576193036605, total=  53.4s\n",
      "[CV] alpha=0.01 ......................................................\n",
      "[CV]  alpha=0.01, mse=5.874914942846504, r2=0.3905307512003283, total=  53.0s\n",
      "[CV] alpha=0.01 ......................................................\n",
      "[CV]  alpha=0.01, mse=7.154658042159614, r2=0.25656522779297497, total=  54.4s\n",
      "[CV] alpha=0.01 ......................................................\n",
      "[CV]  alpha=0.01, mse=5.821179967761129, r2=0.4000656511567303, total=  55.4s\n",
      "[CV] alpha=0.01 ......................................................\n",
      "[CV]  alpha=0.01, mse=5.932388248237563, r2=0.38502136980168034, total=  49.4s\n",
      "[CV] alpha=0.001 .....................................................\n",
      "[CV]  alpha=0.01, mse=6.084936788922283, r2=0.3851308133387854, total=  49.3s\n",
      "[CV] alpha=0.001 .....................................................\n",
      "[CV]  alpha=0.01, mse=5.888531822124411, r2=0.380107572360992, total=  50.7s\n",
      "[CV] alpha=0.001 .....................................................\n",
      "[CV]  alpha=0.01, mse=5.801243172253423, r2=0.40134852433362134, total=  51.0s\n",
      "[CV] alpha=0.001 .....................................................\n",
      "[CV]  alpha=0.001, mse=5.903800768467504, r2=0.3902565275866221, total=  49.3s\n",
      "[CV] alpha=0.001 .....................................................\n",
      "[CV]  alpha=0.001, mse=5.927496723596604, r2=0.3738015310283559, total=  49.2s\n",
      "[CV] alpha=0.001 .....................................................\n",
      "[CV]  alpha=0.001, mse=5.993605673666679, r2=0.3659265006846818, total=  51.1s\n",
      "[CV] alpha=0.001 .....................................................\n",
      "[CV]  alpha=0.001, mse=5.875389051018293, r2=0.39048156676887336, total=  51.6s\n",
      "[CV] alpha=0.001 .....................................................\n",
      "[CV]  alpha=0.001, mse=7.155039387881279, r2=0.2565256024652448, total=  49.3s\n",
      "[CV] alpha=0.001 .....................................................\n",
      "[CV]  alpha=0.001, mse=5.821618661744487, r2=0.4000204390879222, total=  48.9s\n",
      "[CV] alpha=0.001 .....................................................\n",
      "[CV]  alpha=0.001, mse=5.932905801160921, r2=0.38496771788704776, total=  51.0s\n",
      "[CV] alpha=1 .........................................................\n",
      "[CV]  alpha=0.001, mse=6.085223298386602, r2=0.38510186220134435, total=  51.5s\n",
      "[CV] alpha=1 .........................................................\n",
      "[CV]  alpha=0.001, mse=5.88919023163421, r2=0.3800382608446855, total=  50.3s\n",
      "[CV] alpha=1 .........................................................\n",
      "[CV]  alpha=0.001, mse=5.801511541359003, r2=0.40132083034522814, total=  50.2s\n",
      "[CV] alpha=1 .........................................................\n",
      "[CV]  alpha=1, mse=5.886338027787781, r2=0.3920600762762695, total=  51.0s\n",
      "[CV] alpha=1 .........................................................\n",
      "[CV]  alpha=1, mse=5.915317569721894, r2=0.3750881732426574, total=  51.4s\n",
      "[CV] alpha=1 .........................................................\n",
      "[CV]  alpha=1, mse=5.983449078268425, r2=0.36700098378149204, total=  49.7s\n",
      "[CV] alpha=1 .........................................................\n",
      "[CV]  alpha=1, mse=5.854284547477787, r2=0.392670967984764, total=  50.5s\n",
      "[CV] alpha=1 .........................................................\n",
      "[CV]  alpha=1, mse=7.1399594445489125, r2=0.2580925472682153, total=  50.4s\n",
      "[CV] alpha=1 .........................................................\n",
      "[CV]  alpha=1, mse=5.8031516074308165, r2=0.40192366494008325, total=  51.0s\n",
      "[CV] alpha=1 .........................................................\n",
      "[CV]  alpha=1, mse=5.914194096873683, r2=0.3869074591497105, total=  49.7s\n",
      "[CV] alpha=10 ........................................................\n",
      "[CV]  alpha=1, mse=6.071770974993644, r2=0.38646118924618555, total=  51.1s\n",
      "[CV] alpha=10 ........................................................\n",
      "[CV]  alpha=1, mse=5.864133160891546, r2=0.3826760471183085, total=  51.2s\n",
      "[CV] alpha=10 ........................................................\n",
      "[CV]  alpha=1, mse=5.79035266661111, r2=0.40247235539533344, total=  51.6s\n",
      "[CV] alpha=10 ........................................................\n",
      "[CV]  alpha=10, mse=5.8724890344383365, r2=0.3934903977971822, total=  47.4s\n",
      "[CV] alpha=10 ........................................................\n",
      "[CV]  alpha=10, mse=5.9853398502667465, r2=0.366800955871306, total=  49.1s\n",
      "[CV] alpha=10 ........................................................\n",
      "[CV]  alpha=10, mse=5.902338455799101, r2=0.3764593256272225, total=  50.0s\n",
      "[CV] alpha=10 ........................................................\n",
      "[CV]  alpha=10, mse=5.84843161336097, r2=0.39327815692182155, total=  50.4s\n",
      "[CV] alpha=10 ........................................................\n",
      "[CV]  alpha=10, mse=7.152675539887242, r2=0.2567712280122134, total=  48.4s\n",
      "[CV] alpha=10 ........................................................\n",
      "[CV]  alpha=10, mse=5.795168157298553, r2=0.40274644416751604, total=  48.9s\n",
      "[CV] alpha=10 ........................................................\n",
      "[CV]  alpha=10, mse=5.908229294210596, r2=0.38752579800712394, total=  50.2s\n",
      "[CV]  alpha=10, mse=6.067534398555866, r2=0.38688928577354265, total=  50.2s\n",
      "[CV]  alpha=10, mse=5.857713866612598, r2=0.38335181351212433, total=  26.2s\n",
      "[CV]  alpha=10, mse=5.794229028029617, r2=0.402072339499688, total=  26.4s\n"
     ]
    },
    {
     "name": "stderr",
     "output_type": "stream",
     "text": [
      "[Parallel(n_jobs=-1)]: Done  50 out of  50 | elapsed: 11.3min finished\n",
      "/home/d/anaconda3/lib/python3.6/site-packages/sklearn/utils/deprecation.py:122: FutureWarning: You are accessing a training score ('split0_train_mse'), which will not be available by default any more in 0.21. If you need training scores, please set return_train_score=True\n",
      "  warnings.warn(*warn_args, **warn_kwargs)\n",
      "/home/d/anaconda3/lib/python3.6/site-packages/sklearn/utils/deprecation.py:122: FutureWarning: You are accessing a training score ('split1_train_mse'), which will not be available by default any more in 0.21. If you need training scores, please set return_train_score=True\n",
      "  warnings.warn(*warn_args, **warn_kwargs)\n",
      "/home/d/anaconda3/lib/python3.6/site-packages/sklearn/utils/deprecation.py:122: FutureWarning: You are accessing a training score ('split2_train_mse'), which will not be available by default any more in 0.21. If you need training scores, please set return_train_score=True\n",
      "  warnings.warn(*warn_args, **warn_kwargs)\n",
      "/home/d/anaconda3/lib/python3.6/site-packages/sklearn/utils/deprecation.py:122: FutureWarning: You are accessing a training score ('split3_train_mse'), which will not be available by default any more in 0.21. If you need training scores, please set return_train_score=True\n",
      "  warnings.warn(*warn_args, **warn_kwargs)\n",
      "/home/d/anaconda3/lib/python3.6/site-packages/sklearn/utils/deprecation.py:122: FutureWarning: You are accessing a training score ('split4_train_mse'), which will not be available by default any more in 0.21. If you need training scores, please set return_train_score=True\n",
      "  warnings.warn(*warn_args, **warn_kwargs)\n",
      "/home/d/anaconda3/lib/python3.6/site-packages/sklearn/utils/deprecation.py:122: FutureWarning: You are accessing a training score ('split5_train_mse'), which will not be available by default any more in 0.21. If you need training scores, please set return_train_score=True\n",
      "  warnings.warn(*warn_args, **warn_kwargs)\n",
      "/home/d/anaconda3/lib/python3.6/site-packages/sklearn/utils/deprecation.py:122: FutureWarning: You are accessing a training score ('split6_train_mse'), which will not be available by default any more in 0.21. If you need training scores, please set return_train_score=True\n",
      "  warnings.warn(*warn_args, **warn_kwargs)\n",
      "/home/d/anaconda3/lib/python3.6/site-packages/sklearn/utils/deprecation.py:122: FutureWarning: You are accessing a training score ('split7_train_mse'), which will not be available by default any more in 0.21. If you need training scores, please set return_train_score=True\n",
      "  warnings.warn(*warn_args, **warn_kwargs)\n",
      "/home/d/anaconda3/lib/python3.6/site-packages/sklearn/utils/deprecation.py:122: FutureWarning: You are accessing a training score ('split8_train_mse'), which will not be available by default any more in 0.21. If you need training scores, please set return_train_score=True\n",
      "  warnings.warn(*warn_args, **warn_kwargs)\n",
      "/home/d/anaconda3/lib/python3.6/site-packages/sklearn/utils/deprecation.py:122: FutureWarning: You are accessing a training score ('split9_train_mse'), which will not be available by default any more in 0.21. If you need training scores, please set return_train_score=True\n",
      "  warnings.warn(*warn_args, **warn_kwargs)\n",
      "/home/d/anaconda3/lib/python3.6/site-packages/sklearn/utils/deprecation.py:122: FutureWarning: You are accessing a training score ('mean_train_mse'), which will not be available by default any more in 0.21. If you need training scores, please set return_train_score=True\n",
      "  warnings.warn(*warn_args, **warn_kwargs)\n",
      "/home/d/anaconda3/lib/python3.6/site-packages/sklearn/utils/deprecation.py:122: FutureWarning: You are accessing a training score ('std_train_mse'), which will not be available by default any more in 0.21. If you need training scores, please set return_train_score=True\n",
      "  warnings.warn(*warn_args, **warn_kwargs)\n",
      "/home/d/anaconda3/lib/python3.6/site-packages/sklearn/utils/deprecation.py:122: FutureWarning: You are accessing a training score ('split0_train_r2'), which will not be available by default any more in 0.21. If you need training scores, please set return_train_score=True\n",
      "  warnings.warn(*warn_args, **warn_kwargs)\n",
      "/home/d/anaconda3/lib/python3.6/site-packages/sklearn/utils/deprecation.py:122: FutureWarning: You are accessing a training score ('split1_train_r2'), which will not be available by default any more in 0.21. If you need training scores, please set return_train_score=True\n",
      "  warnings.warn(*warn_args, **warn_kwargs)\n",
      "/home/d/anaconda3/lib/python3.6/site-packages/sklearn/utils/deprecation.py:122: FutureWarning: You are accessing a training score ('split2_train_r2'), which will not be available by default any more in 0.21. If you need training scores, please set return_train_score=True\n",
      "  warnings.warn(*warn_args, **warn_kwargs)\n",
      "/home/d/anaconda3/lib/python3.6/site-packages/sklearn/utils/deprecation.py:122: FutureWarning: You are accessing a training score ('split3_train_r2'), which will not be available by default any more in 0.21. If you need training scores, please set return_train_score=True\n",
      "  warnings.warn(*warn_args, **warn_kwargs)\n",
      "/home/d/anaconda3/lib/python3.6/site-packages/sklearn/utils/deprecation.py:122: FutureWarning: You are accessing a training score ('split4_train_r2'), which will not be available by default any more in 0.21. If you need training scores, please set return_train_score=True\n",
      "  warnings.warn(*warn_args, **warn_kwargs)\n",
      "/home/d/anaconda3/lib/python3.6/site-packages/sklearn/utils/deprecation.py:122: FutureWarning: You are accessing a training score ('split5_train_r2'), which will not be available by default any more in 0.21. If you need training scores, please set return_train_score=True\n",
      "  warnings.warn(*warn_args, **warn_kwargs)\n",
      "/home/d/anaconda3/lib/python3.6/site-packages/sklearn/utils/deprecation.py:122: FutureWarning: You are accessing a training score ('split6_train_r2'), which will not be available by default any more in 0.21. If you need training scores, please set return_train_score=True\n",
      "  warnings.warn(*warn_args, **warn_kwargs)\n",
      "/home/d/anaconda3/lib/python3.6/site-packages/sklearn/utils/deprecation.py:122: FutureWarning: You are accessing a training score ('split7_train_r2'), which will not be available by default any more in 0.21. If you need training scores, please set return_train_score=True\n",
      "  warnings.warn(*warn_args, **warn_kwargs)\n",
      "/home/d/anaconda3/lib/python3.6/site-packages/sklearn/utils/deprecation.py:122: FutureWarning: You are accessing a training score ('split8_train_r2'), which will not be available by default any more in 0.21. If you need training scores, please set return_train_score=True\n",
      "  warnings.warn(*warn_args, **warn_kwargs)\n",
      "/home/d/anaconda3/lib/python3.6/site-packages/sklearn/utils/deprecation.py:122: FutureWarning: You are accessing a training score ('split9_train_r2'), which will not be available by default any more in 0.21. If you need training scores, please set return_train_score=True\n",
      "  warnings.warn(*warn_args, **warn_kwargs)\n",
      "/home/d/anaconda3/lib/python3.6/site-packages/sklearn/utils/deprecation.py:122: FutureWarning: You are accessing a training score ('mean_train_r2'), which will not be available by default any more in 0.21. If you need training scores, please set return_train_score=True\n",
      "  warnings.warn(*warn_args, **warn_kwargs)\n",
      "/home/d/anaconda3/lib/python3.6/site-packages/sklearn/utils/deprecation.py:122: FutureWarning: You are accessing a training score ('std_train_r2'), which will not be available by default any more in 0.21. If you need training scores, please set return_train_score=True\n",
      "  warnings.warn(*warn_args, **warn_kwargs)\n"
     ]
    }
   ],
   "source": [
    "clf_ridge = Ridge(random_state=10)\n",
    "params = {'alpha' : [0.1, 0.01, 0.001, 1, 10]}\n",
    "cv_ridge, gs_ridge = call_gridsearch(clf_ridge, params, scoring, 'ridge')"
   ]
  },
  {
   "cell_type": "code",
   "execution_count": 151,
   "metadata": {},
   "outputs": [
    {
     "name": "stdout",
     "output_type": "stream",
     "text": [
      "Best model:  Ridge(alpha=10, copy_X=True, fit_intercept=True, max_iter=None,\n",
      "   normalize=False, random_state=10, solver='auto', tol=0.001) \n",
      "Best r2 Score: 0.3749389137142834\n"
     ]
    }
   ],
   "source": [
    "print('Best model: ', gs_ridge.best_estimator_, '\\nBest r2 Score:', gs_ridge.best_score_)"
   ]
  },
  {
   "cell_type": "code",
   "execution_count": 172,
   "metadata": {},
   "outputs": [],
   "source": [
    "i = gs_ridge.best_index_\n",
    "r2_ridge= cv_ridge.iloc[i,6:]"
   ]
  },
  {
   "cell_type": "markdown",
   "metadata": {},
   "source": [
    "#### Random Forest regression"
   ]
  },
  {
   "cell_type": "code",
   "execution_count": 140,
   "metadata": {},
   "outputs": [
    {
     "name": "stdout",
     "output_type": "stream",
     "text": [
      "Fitting 10 folds for each of 5 candidates, totalling 50 fits\n",
      "[CV] n_estimators=50 .................................................\n",
      "[CV] n_estimators=50 .................................................\n",
      "[CV] n_estimators=50 .................................................\n",
      "[CV] n_estimators=50 .................................................\n",
      "[CV]  n_estimators=50, mse=3.9700937060572037, r2=0.5881387131159683, total= 4.8min\n",
      "[CV] n_estimators=50 .................................................\n",
      "[CV]  n_estimators=50, mse=3.947605479552942, r2=0.5829631592102831, total= 4.9min\n",
      "[CV] n_estimators=50 .................................................\n",
      "[CV]  n_estimators=50, mse=3.9612437272564787, r2=0.5908834664215733, total= 4.9min\n",
      "[CV] n_estimators=50 .................................................\n",
      "[CV]  n_estimators=50, mse=3.904051181387348, r2=0.5869839410749922, total= 5.0min\n",
      "[CV] n_estimators=50 .................................................\n",
      "[CV]  n_estimators=50, mse=3.9463777278950634, r2=0.5899350591052201, total= 4.9min\n",
      "[CV] n_estimators=50 .................................................\n",
      "[CV]  n_estimators=50, mse=3.931741250971692, r2=0.5947923547656383, total= 4.8min\n",
      "[CV] n_estimators=50 .................................................\n",
      "[CV]  n_estimators=50, mse=3.915459409198084, r2=0.5941054827655416, total= 4.8min\n",
      "[CV] n_estimators=70 .................................................\n",
      "[CV]  n_estimators=50, mse=4.069589922924087, r2=0.5887770846677619, total= 4.8min\n",
      "[CV] n_estimators=70 .................................................\n",
      "[CV]  n_estimators=50, mse=3.936826279451579, r2=0.5855658297721732, total= 4.6min\n",
      "[CV] n_estimators=70 .................................................\n",
      "[CV]  n_estimators=50, mse=3.9437154833710486, r2=0.5930335923478697, total= 4.7min\n",
      "[CV] n_estimators=70 .................................................\n"
     ]
    },
    {
     "name": "stderr",
     "output_type": "stream",
     "text": [
      "[Parallel(n_jobs=-1)]: Done  10 tasks      | elapsed: 14.7min\n"
     ]
    },
    {
     "name": "stdout",
     "output_type": "stream",
     "text": [
      "[CV]  n_estimators=70, mse=3.842096863241421, r2=0.6031889329237168, total= 5.9min\n",
      "[CV] n_estimators=70 .................................................\n",
      "[CV]  n_estimators=70, mse=3.8370010995918244, r2=0.5946477364648759, total= 6.0min\n",
      "[CV] n_estimators=70 .................................................\n",
      "[CV]  n_estimators=70, mse=3.866445103524017, r2=0.5988913174582585, total= 5.9min\n",
      "[CV] n_estimators=70 .................................................\n",
      "[CV]  n_estimators=70, mse=3.7886146562021765, r2=0.5991961628089897, total= 6.1min\n",
      "[CV] n_estimators=70 .................................................\n",
      "[CV]  n_estimators=70, mse=3.83488448690047, r2=0.6015202322515834, total= 6.1min\n",
      "[CV] n_estimators=70 .................................................\n",
      "[CV]  n_estimators=70, mse=3.8181318922292378, r2=0.6065010043928838, total= 6.0min\n",
      "[CV] n_estimators=70 .................................................\n",
      "[CV]  n_estimators=70, mse=3.8063926765139544, r2=0.60541184153028, total= 6.0min\n",
      "[CV] n_estimators=100 ................................................\n",
      "[CV]  n_estimators=70, mse=3.9420198533782203, r2=0.6016677534823963, total= 6.0min\n",
      "[CV] n_estimators=100 ................................................\n",
      "[CV]  n_estimators=70, mse=3.826280968059217, r2=0.5972030601571148, total= 6.0min\n",
      "[CV] n_estimators=100 ................................................\n",
      "[CV]  n_estimators=70, mse=3.8250478150813048, r2=0.6052793425476408, total= 6.0min\n",
      "[CV] n_estimators=100 ................................................\n",
      "[CV]  n_estimators=100, mse=3.749559285302262, r2=0.6127461971868862, total= 7.8min\n",
      "[CV] n_estimators=100 ................................................\n",
      "[CV]  n_estimators=100, mse=3.7612086251913253, r2=0.602654679976161, total= 7.7min\n",
      "[CV] n_estimators=100 ................................................\n",
      "[CV]  n_estimators=100, mse=3.783747312679448, r2=0.6074704647231568, total= 7.7min\n",
      "[CV] n_estimators=100 ................................................\n",
      "[CV]  n_estimators=100, mse=3.710434777191213, r2=0.6074669420626745, total= 7.8min\n",
      "[CV] n_estimators=100 ................................................\n",
      "[CV]  n_estimators=100, mse=3.761943774992836, r2=0.6090994430569262, total= 8.0min\n",
      "[CV] n_estimators=100 ................................................\n",
      "[CV]  n_estimators=100, mse=3.7402644157736398, r2=0.6145260738877589, total= 8.0min\n",
      "[CV] n_estimators=100 ................................................\n",
      "[CV]  n_estimators=100, mse=3.7314547911087406, r2=0.6131802471349114, total= 7.9min\n",
      "[CV] n_estimators=150 ................................................\n",
      "[CV]  n_estimators=100, mse=3.8481951197261446, r2=0.6111485319474055, total= 7.9min\n",
      "[CV] n_estimators=150 ................................................\n",
      "[CV]  n_estimators=100, mse=3.736191937562927, r2=0.6066868346368869, total= 7.8min\n",
      "[CV] n_estimators=150 ................................................\n",
      "[CV]  n_estimators=100, mse=3.734274645971149, r2=0.6146465574747131, total= 7.7min\n",
      "[CV] n_estimators=150 ................................................\n",
      "[CV]  n_estimators=150, mse=3.671938993345812, r2=0.6207628068597684, total=10.5min\n",
      "[CV] n_estimators=150 ................................................\n",
      "[CV]  n_estimators=150, mse=3.688229154162343, r2=0.6103644494042544, total=10.6min\n",
      "[CV] n_estimators=150 ................................................\n",
      "[CV]  n_estimators=150, mse=3.7147603139910337, r2=0.6146272414044547, total=12.1min\n",
      "[CV] n_estimators=150 ................................................\n",
      "[CV]  n_estimators=150, mse=3.6338053593923374, r2=0.615573695449489, total=12.3min\n",
      "[CV] n_estimators=150 ................................................\n",
      "[CV]  n_estimators=150, mse=3.6891575415368254, r2=0.6166626021304021, total=12.9min\n",
      "[CV] n_estimators=150 ................................................\n",
      "[CV]  n_estimators=150, mse=3.6657988676018474, r2=0.6222005385841122, total=12.8min\n",
      "[CV] n_estimators=150 ................................................\n",
      "[CV]  n_estimators=150, mse=3.65742561279601, r2=0.6208544519860513, total=12.7min\n",
      "[CV] n_estimators=200 ................................................\n",
      "[CV]  n_estimators=150, mse=3.761878797982633, r2=0.6198706022641656, total=12.7min\n",
      "[CV] n_estimators=200 ................................................\n",
      "[CV]  n_estimators=150, mse=3.6427213474685636, r2=0.6240942768037079, total=12.1min\n",
      "[CV] n_estimators=200 ................................................\n",
      "[CV]  n_estimators=150, mse=3.6564399623062367, r2=0.6150824155803623, total=12.2min\n",
      "[CV] n_estimators=200 ................................................\n",
      "[CV]  n_estimators=200, mse=3.6260629581265813, r2=0.6255008754552629, total=14.4min\n",
      "[CV] n_estimators=200 ................................................\n",
      "[CV]  n_estimators=200, mse=3.644118294440034, r2=0.6150244524563308, total=14.5min\n",
      "[CV] n_estimators=200 ................................................\n",
      "[CV]  n_estimators=200, mse=3.6636539682279867, r2=0.6199290621906478, total=14.0min\n",
      "[CV] n_estimators=200 ................................................\n",
      "[CV]  n_estimators=200, mse=3.5897302343583073, r2=0.6202364761335561, total=14.4min\n",
      "[CV] n_estimators=200 ................................................\n",
      "[CV]  n_estimators=200, mse=3.6433517844841665, r2=0.621422241565236, total=13.2min\n",
      "[CV] n_estimators=200 ................................................\n",
      "[CV]  n_estimators=200, mse=3.6214841592035434, r2=0.6267676393908823, total=13.4min\n",
      "[CV] n_estimators=200 ................................................\n",
      "[CV]  n_estimators=200, mse=3.623862929506946, r2=0.6243337139849638, total=13.5min\n",
      "[CV]  n_estimators=200, mse=3.7143507283975574, r2=0.6246732068766827, total=13.4min\n",
      "[CV]  n_estimators=200, mse=3.611921511614579, r2=0.6197689234073716, total= 9.9min\n",
      "[CV]  n_estimators=200, mse=3.596994416298515, r2=0.6288130058777748, total= 9.7min\n"
     ]
    },
    {
     "name": "stderr",
     "output_type": "stream",
     "text": [
      "[Parallel(n_jobs=-1)]: Done  50 out of  50 | elapsed: 113.9min finished\n"
     ]
    },
    {
     "name": "stdout",
     "output_type": "stream",
     "text": [
      "CPU times: user 7min 14s, sys: 3.65 s, total: 7min 17s\n",
      "Wall time: 2h 43s\n"
     ]
    },
    {
     "name": "stderr",
     "output_type": "stream",
     "text": [
      "/home/d/anaconda3/lib/python3.6/site-packages/sklearn/utils/deprecation.py:122: FutureWarning: You are accessing a training score ('split0_train_mse'), which will not be available by default any more in 0.21. If you need training scores, please set return_train_score=True\n",
      "  warnings.warn(*warn_args, **warn_kwargs)\n",
      "/home/d/anaconda3/lib/python3.6/site-packages/sklearn/utils/deprecation.py:122: FutureWarning: You are accessing a training score ('split1_train_mse'), which will not be available by default any more in 0.21. If you need training scores, please set return_train_score=True\n",
      "  warnings.warn(*warn_args, **warn_kwargs)\n",
      "/home/d/anaconda3/lib/python3.6/site-packages/sklearn/utils/deprecation.py:122: FutureWarning: You are accessing a training score ('split2_train_mse'), which will not be available by default any more in 0.21. If you need training scores, please set return_train_score=True\n",
      "  warnings.warn(*warn_args, **warn_kwargs)\n",
      "/home/d/anaconda3/lib/python3.6/site-packages/sklearn/utils/deprecation.py:122: FutureWarning: You are accessing a training score ('split3_train_mse'), which will not be available by default any more in 0.21. If you need training scores, please set return_train_score=True\n",
      "  warnings.warn(*warn_args, **warn_kwargs)\n",
      "/home/d/anaconda3/lib/python3.6/site-packages/sklearn/utils/deprecation.py:122: FutureWarning: You are accessing a training score ('split4_train_mse'), which will not be available by default any more in 0.21. If you need training scores, please set return_train_score=True\n",
      "  warnings.warn(*warn_args, **warn_kwargs)\n",
      "/home/d/anaconda3/lib/python3.6/site-packages/sklearn/utils/deprecation.py:122: FutureWarning: You are accessing a training score ('split5_train_mse'), which will not be available by default any more in 0.21. If you need training scores, please set return_train_score=True\n",
      "  warnings.warn(*warn_args, **warn_kwargs)\n",
      "/home/d/anaconda3/lib/python3.6/site-packages/sklearn/utils/deprecation.py:122: FutureWarning: You are accessing a training score ('split6_train_mse'), which will not be available by default any more in 0.21. If you need training scores, please set return_train_score=True\n",
      "  warnings.warn(*warn_args, **warn_kwargs)\n",
      "/home/d/anaconda3/lib/python3.6/site-packages/sklearn/utils/deprecation.py:122: FutureWarning: You are accessing a training score ('split7_train_mse'), which will not be available by default any more in 0.21. If you need training scores, please set return_train_score=True\n",
      "  warnings.warn(*warn_args, **warn_kwargs)\n",
      "/home/d/anaconda3/lib/python3.6/site-packages/sklearn/utils/deprecation.py:122: FutureWarning: You are accessing a training score ('split8_train_mse'), which will not be available by default any more in 0.21. If you need training scores, please set return_train_score=True\n",
      "  warnings.warn(*warn_args, **warn_kwargs)\n",
      "/home/d/anaconda3/lib/python3.6/site-packages/sklearn/utils/deprecation.py:122: FutureWarning: You are accessing a training score ('split9_train_mse'), which will not be available by default any more in 0.21. If you need training scores, please set return_train_score=True\n",
      "  warnings.warn(*warn_args, **warn_kwargs)\n",
      "/home/d/anaconda3/lib/python3.6/site-packages/sklearn/utils/deprecation.py:122: FutureWarning: You are accessing a training score ('mean_train_mse'), which will not be available by default any more in 0.21. If you need training scores, please set return_train_score=True\n",
      "  warnings.warn(*warn_args, **warn_kwargs)\n",
      "/home/d/anaconda3/lib/python3.6/site-packages/sklearn/utils/deprecation.py:122: FutureWarning: You are accessing a training score ('std_train_mse'), which will not be available by default any more in 0.21. If you need training scores, please set return_train_score=True\n",
      "  warnings.warn(*warn_args, **warn_kwargs)\n",
      "/home/d/anaconda3/lib/python3.6/site-packages/sklearn/utils/deprecation.py:122: FutureWarning: You are accessing a training score ('split0_train_r2'), which will not be available by default any more in 0.21. If you need training scores, please set return_train_score=True\n",
      "  warnings.warn(*warn_args, **warn_kwargs)\n",
      "/home/d/anaconda3/lib/python3.6/site-packages/sklearn/utils/deprecation.py:122: FutureWarning: You are accessing a training score ('split1_train_r2'), which will not be available by default any more in 0.21. If you need training scores, please set return_train_score=True\n",
      "  warnings.warn(*warn_args, **warn_kwargs)\n",
      "/home/d/anaconda3/lib/python3.6/site-packages/sklearn/utils/deprecation.py:122: FutureWarning: You are accessing a training score ('split2_train_r2'), which will not be available by default any more in 0.21. If you need training scores, please set return_train_score=True\n",
      "  warnings.warn(*warn_args, **warn_kwargs)\n",
      "/home/d/anaconda3/lib/python3.6/site-packages/sklearn/utils/deprecation.py:122: FutureWarning: You are accessing a training score ('split3_train_r2'), which will not be available by default any more in 0.21. If you need training scores, please set return_train_score=True\n",
      "  warnings.warn(*warn_args, **warn_kwargs)\n",
      "/home/d/anaconda3/lib/python3.6/site-packages/sklearn/utils/deprecation.py:122: FutureWarning: You are accessing a training score ('split4_train_r2'), which will not be available by default any more in 0.21. If you need training scores, please set return_train_score=True\n",
      "  warnings.warn(*warn_args, **warn_kwargs)\n",
      "/home/d/anaconda3/lib/python3.6/site-packages/sklearn/utils/deprecation.py:122: FutureWarning: You are accessing a training score ('split5_train_r2'), which will not be available by default any more in 0.21. If you need training scores, please set return_train_score=True\n",
      "  warnings.warn(*warn_args, **warn_kwargs)\n",
      "/home/d/anaconda3/lib/python3.6/site-packages/sklearn/utils/deprecation.py:122: FutureWarning: You are accessing a training score ('split6_train_r2'), which will not be available by default any more in 0.21. If you need training scores, please set return_train_score=True\n",
      "  warnings.warn(*warn_args, **warn_kwargs)\n",
      "/home/d/anaconda3/lib/python3.6/site-packages/sklearn/utils/deprecation.py:122: FutureWarning: You are accessing a training score ('split7_train_r2'), which will not be available by default any more in 0.21. If you need training scores, please set return_train_score=True\n",
      "  warnings.warn(*warn_args, **warn_kwargs)\n",
      "/home/d/anaconda3/lib/python3.6/site-packages/sklearn/utils/deprecation.py:122: FutureWarning: You are accessing a training score ('split8_train_r2'), which will not be available by default any more in 0.21. If you need training scores, please set return_train_score=True\n",
      "  warnings.warn(*warn_args, **warn_kwargs)\n",
      "/home/d/anaconda3/lib/python3.6/site-packages/sklearn/utils/deprecation.py:122: FutureWarning: You are accessing a training score ('split9_train_r2'), which will not be available by default any more in 0.21. If you need training scores, please set return_train_score=True\n",
      "  warnings.warn(*warn_args, **warn_kwargs)\n",
      "/home/d/anaconda3/lib/python3.6/site-packages/sklearn/utils/deprecation.py:122: FutureWarning: You are accessing a training score ('mean_train_r2'), which will not be available by default any more in 0.21. If you need training scores, please set return_train_score=True\n",
      "  warnings.warn(*warn_args, **warn_kwargs)\n",
      "/home/d/anaconda3/lib/python3.6/site-packages/sklearn/utils/deprecation.py:122: FutureWarning: You are accessing a training score ('std_train_r2'), which will not be available by default any more in 0.21. If you need training scores, please set return_train_score=True\n",
      "  warnings.warn(*warn_args, **warn_kwargs)\n"
     ]
    }
   ],
   "source": [
    "%%time\n",
    "clf_gbrt =  GradientBoostingRegressor(random_state=100)\n",
    "param_gbrt = {'n_estimators': [50, 70, 100, 150, 200]}\n",
    "cv_gbrt, gs_gbrt = call_gridsearch(clf_gbrt, param_gbrt, scoring, 'rf')"
   ]
  },
  {
   "cell_type": "code",
   "execution_count": 153,
   "metadata": {},
   "outputs": [
    {
     "name": "stdout",
     "output_type": "stream",
     "text": [
      "Best Model:  GradientBoostingRegressor(alpha=0.9, criterion='friedman_mse', init=None,\n",
      "             learning_rate=0.1, loss='ls', max_depth=3, max_features=None,\n",
      "             max_leaf_nodes=None, min_impurity_decrease=0.0,\n",
      "             min_impurity_split=None, min_samples_leaf=1,\n",
      "             min_samples_split=2, min_weight_fraction_leaf=0.0,\n",
      "             n_estimators=200, presort='auto', random_state=100,\n",
      "             subsample=1.0, verbose=0, warm_start=False) \n",
      "Best Score:  0.6226468488483902\n"
     ]
    }
   ],
   "source": [
    "print('Best Model: ', gs_gbrt.best_estimator_, '\\nBest Score: ', gs_gbrt.best_score_)"
   ]
  },
  {
   "cell_type": "code",
   "execution_count": 173,
   "metadata": {},
   "outputs": [],
   "source": [
    "i = gs_gbrt.best_index_\n",
    "r2_gbrt = cv_gbrt.iloc[i,6:]"
   ]
  },
  {
   "cell_type": "markdown",
   "metadata": {},
   "source": [
    "#### Lasso Regression"
   ]
  },
  {
   "cell_type": "code",
   "execution_count": 131,
   "metadata": {
    "scrolled": true
   },
   "outputs": [
    {
     "name": "stdout",
     "output_type": "stream",
     "text": [
      "Fitting 10 folds for each of 5 candidates, totalling 50 fits\n",
      "[CV] alpha=0.1 .......................................................\n",
      "[CV] alpha=0.1 .......................................................\n",
      "[CV] alpha=0.1 .......................................................\n",
      "[CV] alpha=0.1 .......................................................\n",
      "[CV]  alpha=0.1, mse=7.267548775777033, r2=0.24940888077661882, total=   5.1s\n",
      "[CV] alpha=0.1 .......................................................\n",
      "[CV]  alpha=0.1, mse=7.102813247207671, r2=0.24963758088858146, total=   6.3s\n",
      "[CV] alpha=0.1 .......................................................\n",
      "[CV]  alpha=0.1, mse=7.168295012308759, r2=0.25635427596344695, total=   7.0s\n",
      "[CV] alpha=0.1 .......................................................\n",
      "[CV]  alpha=0.1, mse=7.430024577811739, r2=0.21396535899069713, total=   6.9s\n",
      "[CV] alpha=0.1 .......................................................\n",
      "[CV]  alpha=0.1, mse=8.894603050521042, r2=0.07576893909243532, total=   6.4s\n",
      "[CV] alpha=0.1 .......................................................\n",
      "[CV]  alpha=0.1, mse=7.276027047205824, r2=0.2501282260801997, total=   7.0s\n",
      "[CV] alpha=0.1 .......................................................\n",
      "[CV]  alpha=0.1, mse=7.233325665695563, r2=0.2501602181904814, total=   8.2s\n",
      "[CV] alpha=0.01 ......................................................\n",
      "[CV]  alpha=0.1, mse=7.518195057867624, r2=0.2403032865013266, total=   8.4s\n",
      "[CV] alpha=0.01 ......................................................\n",
      "[CV]  alpha=0.1, mse=7.294266339358941, r2=0.23212430440438192, total=  10.1s\n",
      "[CV] alpha=0.01 ......................................................\n",
      "[CV]  alpha=0.1, mse=7.247328287986439, r2=0.25212171849771203, total=   9.2s\n",
      "[CV] alpha=0.01 ......................................................\n"
     ]
    },
    {
     "name": "stderr",
     "output_type": "stream",
     "text": [
      "[Parallel(n_jobs=-1)]: Done  10 tasks      | elapsed:   31.2s\n"
     ]
    },
    {
     "name": "stdout",
     "output_type": "stream",
     "text": [
      "[CV]  alpha=0.01, mse=6.239049926661211, r2=0.35563205534282816, total=  13.6s\n",
      "[CV]  alpha=0.01, mse=6.167512088732654, r2=0.34844559053840995, total=  13.1s\n",
      "[CV] alpha=0.01 ......................................................\n",
      "[CV] alpha=0.01 ......................................................\n",
      "[CV]  alpha=0.01, mse=6.182200695448432, r2=0.35865263575064354, total=  10.7s\n",
      "[CV] alpha=0.01 ......................................................\n",
      "[CV]  alpha=0.01, mse=6.40238145157729, r2=0.3226814321821093, total=  12.1s\n",
      "[CV] alpha=0.01 ......................................................\n",
      "[CV]  alpha=0.01, mse=6.145294322061106, r2=0.36666222862476916, total=  12.7s\n",
      "[CV] alpha=0.01 ......................................................\n",
      "[CV]  alpha=0.01, mse=7.7296390470880745, r2=0.19681941326158914, total=  13.8s\n",
      "[CV] alpha=0.01 ......................................................\n",
      "[CV]  alpha=0.01, mse=6.455524346054696, r2=0.34768377358389413, total=  14.0s\n",
      "[CV] alpha=0.001 .....................................................\n",
      "[CV]  alpha=0.01, mse=6.2128783114189545, r2=0.3559444807611192, total=  14.4s\n",
      "[CV] alpha=0.001 .....................................................\n",
      "[CV]  alpha=0.01, mse=6.258711541500178, r2=0.3411383331960782, total=  12.8s\n",
      "[CV] alpha=0.001 .....................................................\n",
      "[CV]  alpha=0.01, mse=6.164860249673803, r2=0.3638255497725237, total=  15.0s\n",
      "[CV] alpha=0.001 .....................................................\n",
      "[CV]  alpha=0.001, mse=5.957555301194097, r2=0.38470476919773267, total= 1.7min\n",
      "[CV] alpha=0.001 .....................................................\n",
      "[CV]  alpha=0.001, mse=5.9625568360646115, r2=0.3700976759655531, total= 1.8min\n",
      "[CV] alpha=0.001 .....................................................\n",
      "[CV]  alpha=0.001, mse=6.093478218141561, r2=0.35536081832106836, total= 1.7min\n",
      "[CV] alpha=0.001 .....................................................\n",
      "[CV]  alpha=0.001, mse=5.937712137503968, r2=0.384016110660517, total= 1.8min\n",
      "[CV] alpha=0.001 .....................................................\n",
      "[CV]  alpha=0.001, mse=7.306368295023491, r2=0.240801137236205, total= 1.8min\n",
      "[CV] alpha=0.001 .....................................................\n",
      "[CV]  alpha=0.001, mse=5.873639792123491, r2=0.3946591097435518, total= 1.8min\n",
      "[CV] alpha=0.001 .....................................................\n",
      "[CV]  alpha=0.001, mse=5.989710534197032, r2=0.37907907819430564, total= 1.9min\n",
      "[CV] alpha=1 .........................................................\n",
      "[CV]  alpha=1, mse=9.025899978118076, r2=0.06780668756508035, total=  14.2s\n",
      "[CV] alpha=1 .........................................................\n",
      "[CV]  alpha=0.001, mse=6.153040816645755, r2=0.3782490544007273, total= 2.1min\n",
      "[CV] alpha=1 .........................................................\n",
      "[CV]  alpha=1, mse=8.849173218476764, r2=0.06514689430098419, total=  10.6s\n",
      "[CV] alpha=1 .........................................................\n",
      "[CV]  alpha=1, mse=8.812869238620912, r2=0.06767192548352308, total=   9.7s\n",
      "[CV] alpha=1 .........................................................\n",
      "[CV]  alpha=1, mse=9.022992342994188, r2=0.06394621561186786, total=   9.0s\n",
      "[CV] alpha=1 .........................................................\n",
      "[CV]  alpha=1, mse=8.981801628189734, r2=0.06670820490445528, total=   9.4s\n",
      "[CV] alpha=1 .........................................................\n",
      "[CV]  alpha=1, mse=9.069365109399524, r2=0.06530571439760302, total=  11.1s\n",
      "[CV] alpha=1 .........................................................\n",
      "[CV]  alpha=1, mse=8.992252829324338, r2=0.06782174463754109, total=  10.5s\n",
      "[CV] alpha=1 .........................................................\n",
      "[CV]  alpha=1, mse=9.220140523999303, r2=0.06832552226107214, total=  10.1s\n",
      "[CV] alpha=1 .........................................................\n",
      "[CV]  alpha=1, mse=8.864700868047349, r2=0.06680287932875617, total=   9.9s\n",
      "[CV] alpha=10 ........................................................\n",
      "[CV]  alpha=1, mse=9.051167690157996, r2=0.06597694091968498, total=   8.6s\n",
      "[CV] alpha=10 ........................................................\n",
      "[CV]  alpha=10, mse=9.682498317897704, r2=-6.669859921926147e-06, total=   9.1s\n",
      "[CV] alpha=10 ........................................................\n",
      "[CV]  alpha=10, mse=9.466194236612655, r2=-3.705010203858272e-05, total=  10.2s\n",
      "[CV] alpha=10 ........................................................\n",
      "[CV]  alpha=0.001, mse=5.9528847299870655, r2=0.3733330687180416, total= 1.7min\n",
      "[CV] alpha=10 ........................................................\n",
      "[CV]  alpha=0.001, mse=5.893956140447152, r2=0.3917811344527681, total= 1.8min\n",
      "[CV] alpha=10 ........................................................\n",
      "[CV]  alpha=10, mse=9.454916620240544, r2=-0.0002513334286275981, total=  10.6s\n",
      "[CV] alpha=10 ........................................................\n",
      "[CV]  alpha=10, mse=9.64259530077309, r2=-0.00033198295020264723, total=   9.7s\n",
      "[CV] alpha=10 ........................................................\n",
      "[CV]  alpha=10, mse=9.625153964977919, r2=-0.0001420198205561718, total=   9.6s\n",
      "[CV] alpha=10 ........................................................\n",
      "[CV]  alpha=10, mse=9.705646842605182, r2=-0.0002698681141362069, total=   9.5s\n",
      "[CV] alpha=10 ........................................................\n",
      "[CV]  alpha=10, mse=9.646725483331942, r2=-2.389853718365309e-05, total=   9.7s\n",
      "[CV]  alpha=10, mse=9.897424009330727, r2=-0.00011245174104757005, total=   8.7s\n",
      "[CV]  alpha=10, mse=9.501649118729818, r2=-0.000249385874682595, total=   8.6s\n",
      "[CV]  alpha=10, mse=9.694677732264955, r2=-0.0004292111540649124, total=   6.4s\n"
     ]
    },
    {
     "name": "stderr",
     "output_type": "stream",
     "text": [
      "[Parallel(n_jobs=-1)]: Done  50 out of  50 | elapsed:  6.8min finished\n"
     ]
    },
    {
     "name": "stdout",
     "output_type": "stream",
     "text": [
      "CPU times: user 1min 19s, sys: 1.93 s, total: 1min 21s\n",
      "Wall time: 7min 23s\n"
     ]
    },
    {
     "name": "stderr",
     "output_type": "stream",
     "text": [
      "/home/d/anaconda3/lib/python3.6/site-packages/sklearn/utils/deprecation.py:122: FutureWarning: You are accessing a training score ('split0_train_mse'), which will not be available by default any more in 0.21. If you need training scores, please set return_train_score=True\n",
      "  warnings.warn(*warn_args, **warn_kwargs)\n",
      "/home/d/anaconda3/lib/python3.6/site-packages/sklearn/utils/deprecation.py:122: FutureWarning: You are accessing a training score ('split1_train_mse'), which will not be available by default any more in 0.21. If you need training scores, please set return_train_score=True\n",
      "  warnings.warn(*warn_args, **warn_kwargs)\n",
      "/home/d/anaconda3/lib/python3.6/site-packages/sklearn/utils/deprecation.py:122: FutureWarning: You are accessing a training score ('split2_train_mse'), which will not be available by default any more in 0.21. If you need training scores, please set return_train_score=True\n",
      "  warnings.warn(*warn_args, **warn_kwargs)\n",
      "/home/d/anaconda3/lib/python3.6/site-packages/sklearn/utils/deprecation.py:122: FutureWarning: You are accessing a training score ('split3_train_mse'), which will not be available by default any more in 0.21. If you need training scores, please set return_train_score=True\n",
      "  warnings.warn(*warn_args, **warn_kwargs)\n",
      "/home/d/anaconda3/lib/python3.6/site-packages/sklearn/utils/deprecation.py:122: FutureWarning: You are accessing a training score ('split4_train_mse'), which will not be available by default any more in 0.21. If you need training scores, please set return_train_score=True\n",
      "  warnings.warn(*warn_args, **warn_kwargs)\n",
      "/home/d/anaconda3/lib/python3.6/site-packages/sklearn/utils/deprecation.py:122: FutureWarning: You are accessing a training score ('split5_train_mse'), which will not be available by default any more in 0.21. If you need training scores, please set return_train_score=True\n",
      "  warnings.warn(*warn_args, **warn_kwargs)\n",
      "/home/d/anaconda3/lib/python3.6/site-packages/sklearn/utils/deprecation.py:122: FutureWarning: You are accessing a training score ('split6_train_mse'), which will not be available by default any more in 0.21. If you need training scores, please set return_train_score=True\n",
      "  warnings.warn(*warn_args, **warn_kwargs)\n",
      "/home/d/anaconda3/lib/python3.6/site-packages/sklearn/utils/deprecation.py:122: FutureWarning: You are accessing a training score ('split7_train_mse'), which will not be available by default any more in 0.21. If you need training scores, please set return_train_score=True\n",
      "  warnings.warn(*warn_args, **warn_kwargs)\n",
      "/home/d/anaconda3/lib/python3.6/site-packages/sklearn/utils/deprecation.py:122: FutureWarning: You are accessing a training score ('split8_train_mse'), which will not be available by default any more in 0.21. If you need training scores, please set return_train_score=True\n",
      "  warnings.warn(*warn_args, **warn_kwargs)\n",
      "/home/d/anaconda3/lib/python3.6/site-packages/sklearn/utils/deprecation.py:122: FutureWarning: You are accessing a training score ('split9_train_mse'), which will not be available by default any more in 0.21. If you need training scores, please set return_train_score=True\n",
      "  warnings.warn(*warn_args, **warn_kwargs)\n",
      "/home/d/anaconda3/lib/python3.6/site-packages/sklearn/utils/deprecation.py:122: FutureWarning: You are accessing a training score ('mean_train_mse'), which will not be available by default any more in 0.21. If you need training scores, please set return_train_score=True\n",
      "  warnings.warn(*warn_args, **warn_kwargs)\n",
      "/home/d/anaconda3/lib/python3.6/site-packages/sklearn/utils/deprecation.py:122: FutureWarning: You are accessing a training score ('std_train_mse'), which will not be available by default any more in 0.21. If you need training scores, please set return_train_score=True\n",
      "  warnings.warn(*warn_args, **warn_kwargs)\n",
      "/home/d/anaconda3/lib/python3.6/site-packages/sklearn/utils/deprecation.py:122: FutureWarning: You are accessing a training score ('split0_train_r2'), which will not be available by default any more in 0.21. If you need training scores, please set return_train_score=True\n",
      "  warnings.warn(*warn_args, **warn_kwargs)\n",
      "/home/d/anaconda3/lib/python3.6/site-packages/sklearn/utils/deprecation.py:122: FutureWarning: You are accessing a training score ('split1_train_r2'), which will not be available by default any more in 0.21. If you need training scores, please set return_train_score=True\n",
      "  warnings.warn(*warn_args, **warn_kwargs)\n",
      "/home/d/anaconda3/lib/python3.6/site-packages/sklearn/utils/deprecation.py:122: FutureWarning: You are accessing a training score ('split2_train_r2'), which will not be available by default any more in 0.21. If you need training scores, please set return_train_score=True\n",
      "  warnings.warn(*warn_args, **warn_kwargs)\n",
      "/home/d/anaconda3/lib/python3.6/site-packages/sklearn/utils/deprecation.py:122: FutureWarning: You are accessing a training score ('split3_train_r2'), which will not be available by default any more in 0.21. If you need training scores, please set return_train_score=True\n",
      "  warnings.warn(*warn_args, **warn_kwargs)\n",
      "/home/d/anaconda3/lib/python3.6/site-packages/sklearn/utils/deprecation.py:122: FutureWarning: You are accessing a training score ('split4_train_r2'), which will not be available by default any more in 0.21. If you need training scores, please set return_train_score=True\n",
      "  warnings.warn(*warn_args, **warn_kwargs)\n",
      "/home/d/anaconda3/lib/python3.6/site-packages/sklearn/utils/deprecation.py:122: FutureWarning: You are accessing a training score ('split5_train_r2'), which will not be available by default any more in 0.21. If you need training scores, please set return_train_score=True\n",
      "  warnings.warn(*warn_args, **warn_kwargs)\n",
      "/home/d/anaconda3/lib/python3.6/site-packages/sklearn/utils/deprecation.py:122: FutureWarning: You are accessing a training score ('split6_train_r2'), which will not be available by default any more in 0.21. If you need training scores, please set return_train_score=True\n",
      "  warnings.warn(*warn_args, **warn_kwargs)\n",
      "/home/d/anaconda3/lib/python3.6/site-packages/sklearn/utils/deprecation.py:122: FutureWarning: You are accessing a training score ('split7_train_r2'), which will not be available by default any more in 0.21. If you need training scores, please set return_train_score=True\n",
      "  warnings.warn(*warn_args, **warn_kwargs)\n",
      "/home/d/anaconda3/lib/python3.6/site-packages/sklearn/utils/deprecation.py:122: FutureWarning: You are accessing a training score ('split8_train_r2'), which will not be available by default any more in 0.21. If you need training scores, please set return_train_score=True\n",
      "  warnings.warn(*warn_args, **warn_kwargs)\n",
      "/home/d/anaconda3/lib/python3.6/site-packages/sklearn/utils/deprecation.py:122: FutureWarning: You are accessing a training score ('split9_train_r2'), which will not be available by default any more in 0.21. If you need training scores, please set return_train_score=True\n",
      "  warnings.warn(*warn_args, **warn_kwargs)\n",
      "/home/d/anaconda3/lib/python3.6/site-packages/sklearn/utils/deprecation.py:122: FutureWarning: You are accessing a training score ('mean_train_r2'), which will not be available by default any more in 0.21. If you need training scores, please set return_train_score=True\n",
      "  warnings.warn(*warn_args, **warn_kwargs)\n",
      "/home/d/anaconda3/lib/python3.6/site-packages/sklearn/utils/deprecation.py:122: FutureWarning: You are accessing a training score ('std_train_r2'), which will not be available by default any more in 0.21. If you need training scores, please set return_train_score=True\n",
      "  warnings.warn(*warn_args, **warn_kwargs)\n"
     ]
    }
   ],
   "source": [
    "%%time\n",
    "clf_lasso = Lasso(random_state=100)\n",
    "param_lasso = {'alpha' :[0.1, 0.01, 0.001, 1, 10]}\n",
    "cv_lasso, gs_lasso = call_gridsearch(clf_lasso, param_lasso, scoring, 'lasso')"
   ]
  },
  {
   "cell_type": "code",
   "execution_count": 152,
   "metadata": {},
   "outputs": [
    {
     "name": "stdout",
     "output_type": "stream",
     "text": [
      "Best Model:  Lasso(alpha=0.001, copy_X=True, fit_intercept=True, max_iter=1000,\n",
      "   normalize=False, positive=False, precompute=False, random_state=100,\n",
      "   selection='cyclic', tol=0.0001, warm_start=False) \n",
      "Best r2 score:  0.3652085693035785\n"
     ]
    }
   ],
   "source": [
    "print('Best Model: ', gs_lasso.best_estimator_, '\\nBest r2 score: ', gs_lasso.best_score_)"
   ]
  },
  {
   "cell_type": "code",
   "execution_count": 162,
   "metadata": {},
   "outputs": [],
   "source": [
    "i = gs_lasso.best_index_\n",
    "r2_lasso = cv_lasso.iloc[i,6:]"
   ]
  },
  {
   "cell_type": "code",
   "execution_count": 167,
   "metadata": {},
   "outputs": [],
   "source": [
    "mse_test_cols = ['split'+str(i)+'_test_mse' for i in range(0,10)]\n",
    "mse_train_cols = ['split'+str(i)+'_train_mse' for i in range(0,10)]\n",
    "r2_test_cols = ['split'+str(i)+'_test_r2' for i in range(0,10)]\n",
    "r2_test_cols = ['split'+str(i)+'_train_r2' for i in range(0,10)]"
   ]
  },
  {
   "cell_type": "code",
   "execution_count": 226,
   "metadata": {},
   "outputs": [],
   "source": [
    "models_r2 = pd.concat([r2_ridge[r2_test_cols], r2_lasso[r2_test_cols], r2_gbrt[r2_test_cols]], axis=1)\n",
    "models_mse = pd.concat([r2_ridge[mse_test_cols], r2_lasso[mse_test_cols], r2_gbrt[mse_test_cols]], axis=1)\n",
    "models_r2.columns = ['ridge', 'lasso', 'gbrt']\n",
    "models_mse.columns = ['ridge', 'lasso', 'gbrt']\n",
    "models_r2['fold'] = pd.Series(np.arange(1,11), index = models_r2.index)\n",
    "models_mse['fold'] = pd.Series(np.arange(1,11), index = models_mse.index)"
   ]
  },
  {
   "cell_type": "code",
   "execution_count": 227,
   "metadata": {},
   "outputs": [],
   "source": [
    "models = models_r2.melt(id_vars=['fold'])\n",
    "models_r2.reset_index(inplace=True)"
   ]
  },
  {
   "cell_type": "markdown",
   "metadata": {},
   "source": [
    "### Visualization 3: \n",
    "r2 values on test folds for best performing models, we see the performance of GBRYT are much higher than the other two moels.\n",
    "\n",
    "_Task_ : Discover\n",
    "\n",
    "_Marks_ : Points\n",
    "\n",
    "_Attributes_ : r2 score - qunatitative, fold - categorical\n",
    "\n",
    "_position_ : both\n",
    "\n",
    "_color_ : Colored by model"
   ]
  },
  {
   "cell_type": "code",
   "execution_count": 228,
   "metadata": {},
   "outputs": [
    {
     "data": {
      "text/plain": [
       "<matplotlib.axes._subplots.AxesSubplot at 0x7f80149f1668>"
      ]
     },
     "execution_count": 228,
     "metadata": {},
     "output_type": "execute_result"
    },
    {
     "data": {
      "image/png": "[encoded data removed]",
      "text/plain": [
       "<Figure size 864x576 with 1 Axes>"
      ]
     },
     "metadata": {
      "needs_background": "light"
     },
     "output_type": "display_data"
    }
   ],
   "source": [
    "plt.figure(figsize=(12,8))\n",
    "sns.pointplot(y = \"value\", x = \"fold\", hue = \"variable\", data = models)"
   ]
  },
  {
   "cell_type": "code",
   "execution_count": 229,
   "metadata": {},
   "outputs": [],
   "source": [
    "models = models_mse.melt(id_vars=['fold'])\n",
    "models_mse.reset_index(inplace=True)"
   ]
  },
  {
   "cell_type": "markdown",
   "metadata": {},
   "source": [
    "mse values of best performing models"
   ]
  },
  {
   "cell_type": "code",
   "execution_count": 230,
   "metadata": {},
   "outputs": [
    {
     "data": {
      "text/plain": [
       "<matplotlib.axes._subplots.AxesSubplot at 0x7f8010d1bd68>"
      ]
     },
     "execution_count": 230,
     "metadata": {},
     "output_type": "execute_result"
    },
    {
     "data": {
      "image/png": "[encoded data removed]",
      "text/plain": [
       "<Figure size 864x576 with 1 Axes>"
      ]
     },
     "metadata": {
      "needs_background": "light"
     },
     "output_type": "display_data"
    }
   ],
   "source": [
    "plt.figure(figsize=(12,8))\n",
    "sns.pointplot(y = \"value\", x = \"fold\", hue = \"variable\", data = models)"
   ]
  },
  {
   "cell_type": "markdown",
   "metadata": {},
   "source": [
    "### Best model!\n",
    "\n",
    "As seen above the best model is Gradient Boosted Regression Trees"
   ]
  },
  {
   "cell_type": "code",
   "execution_count": 305,
   "metadata": {},
   "outputs": [],
   "source": [
    "clf = gs_gbrt.best_estimator_"
   ]
  },
  {
   "cell_type": "code",
   "execution_count": 306,
   "metadata": {},
   "outputs": [],
   "source": [
    "features = np.where(clf.feature_importances_!=0)"
   ]
  },
  {
   "cell_type": "code",
   "execution_count": 307,
   "metadata": {},
   "outputs": [],
   "source": [
    "feature_names = X.columns[features]"
   ]
  },
  {
   "cell_type": "code",
   "execution_count": 308,
   "metadata": {},
   "outputs": [],
   "source": [
    "feature_imp = clf.feature_importances_[clf.feature_importances_!=0]"
   ]
  },
  {
   "cell_type": "code",
   "execution_count": 309,
   "metadata": {},
   "outputs": [],
   "source": [
    "feature_imp = pd.DataFrame(feature_imp, index=feature_names)\n",
    "feature_imp.columns = ['importance']"
   ]
  },
  {
   "cell_type": "code",
   "execution_count": 313,
   "metadata": {},
   "outputs": [],
   "source": [
    "feature_imp = feature_imp.sort_values(by = ['importance'], ascending= False)\n",
    "feature_imp = feature_imp[0:25]"
   ]
  },
  {
   "cell_type": "markdown",
   "metadata": {},
   "source": [
    "We see that `price` is the most important feature to make the predictions; also Topic - 6 which contains words like \"crisp\", \"fruity\", \"attractive\", \"soft\", and topic - 4 having words like \"black\", \"Dry\" are important.\n",
    "\n",
    "_Task_ : Analyze \n",
    "\n",
    "_Marks_ : Line\n",
    "\n",
    "_Attributes_ : feature score - qunatitative, Feature name - categorical\n",
    "\n",
    "_position_ : horizontal\n",
    "\n",
    "_size_ : Lenght of line indicates the feature importance\n",
    "\n",
    "_color_ : Saturation increases with importance"
   ]
  },
  {
   "cell_type": "code",
   "execution_count": 336,
   "metadata": {
    "scrolled": false
   },
   "outputs": [
    {
     "data": {
      "text/plain": [
       "(array([0.  , 0.02, 0.04, 0.06, 0.08, 0.1 , 0.12, 0.14, 0.16]),\n",
       " <a list of 9 Text xticklabel objects>)"
      ]
     },
     "execution_count": 336,
     "metadata": {},
     "output_type": "execute_result"
    },
    {
     "data": {
      "image/png": "[encoded data removed]",
      "text/plain": [
       "<Figure size 720x864 with 1 Axes>"
      ]
     },
     "metadata": {
      "needs_background": "light"
     },
     "output_type": "display_data"
    }
   ],
   "source": [
    "plt.figure(figsize=(10,12))\n",
    "s = sns.barplot(y = feature_imp.index, x = 'importance', data = feature_imp, palette=sns.cubehelix_palette(25, start=2, rot=0, dark=0.2, light=.90, reverse=True))\n",
    "plt.xticks(rotation = 90)"
   ]
  },
  {
   "cell_type": "markdown",
   "metadata": {},
   "source": [
    "### Predicting on test set"
   ]
  },
  {
   "cell_type": "code",
   "execution_count": 339,
   "metadata": {},
   "outputs": [],
   "source": [
    "std = StandardScaler()\n",
    "std.fit(train.price.values.reshape(-1,1))\n",
    "test.price = std.transform(test.price.values.reshape(-1,1))"
   ]
  },
  {
   "cell_type": "code",
   "execution_count": 341,
   "metadata": {},
   "outputs": [
    {
     "data": {
      "text/plain": [
       "GradientBoostingRegressor(alpha=0.9, criterion='friedman_mse', init=None,\n",
       "             learning_rate=0.1, loss='ls', max_depth=3, max_features=None,\n",
       "             max_leaf_nodes=None, min_impurity_decrease=0.0,\n",
       "             min_impurity_split=None, min_samples_leaf=1,\n",
       "             min_samples_split=2, min_weight_fraction_leaf=0.0,\n",
       "             n_estimators=200, presort='auto', random_state=100,\n",
       "             subsample=1.0, verbose=0, warm_start=False)"
      ]
     },
     "execution_count": 341,
     "metadata": {},
     "output_type": "execute_result"
    }
   ],
   "source": [
    "clf.fit(X,y)"
   ]
  },
  {
   "cell_type": "code",
   "execution_count": 342,
   "metadata": {},
   "outputs": [],
   "source": [
    "pred = clf.predict(test.iloc[:, test.columns!='points'])"
   ]
  },
  {
   "cell_type": "code",
   "execution_count": 346,
   "metadata": {},
   "outputs": [
    {
     "name": "stdout",
     "output_type": "stream",
     "text": [
      "R2 score:  0.5185340237112\n"
     ]
    }
   ],
   "source": [
    "print(\"R2 score: \", r2_score(test.points, pred))"
   ]
  }
 ],
 "metadata": {
  "kernelspec": {
   "display_name": "Python 3",
   "language": "python",
   "name": "python3"
  },
  "language_info": {
   "codemirror_mode": {
    "name": "ipython",
    "version": 3
   },
   "file_extension": ".py",
   "mimetype": "text/x-python",
   "name": "python",
   "nbconvert_exporter": "python",
   "pygments_lexer": "ipython3",
   "version": "3.6.6"
  }
 },
 "nbformat": 4,
 "nbformat_minor": 2
}
